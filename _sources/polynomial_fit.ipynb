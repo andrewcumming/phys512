{
 "cells": [
  {
   "cell_type": "markdown",
   "id": "d6186669",
   "metadata": {},
   "source": [
    "# Polynomial fitting"
   ]
  },
  {
   "cell_type": "code",
   "execution_count": 18,
   "id": "c9b00a3e",
   "metadata": {},
   "outputs": [],
   "source": [
    "import numpy as np\n",
    "import matplotlib.pyplot as plt"
   ]
  },
  {
   "cell_type": "markdown",
   "id": "f0c00302",
   "metadata": {},
   "source": [
    "Let's consider the example of fitting a polynomial to some measurements of $y_i(x_i)$ (ie. $y$ measured at a set of points $x_i$). An obvious way to solve the normal equations\n",
    "\n",
    "$$\\mathbf{A^T} \\mathbf{d} = \\mathbf{A^T}\\mathbf{A}\\mathbf{a}$$ \n",
    "\n",
    "is to calculate the inverse of $\\mathbf{A^T}\\mathbf{A}$ and write\n",
    "\n",
    "$$\\mathbf{a} = (\\mathbf{A^T}\\mathbf{A})^{-1} \\mathbf{A^T} \\mathbf{d}.$$\n",
    "\n",
    "For simplicity, let's take a constant error $\\sigma_i$ for each point, so the $\\sigma_i$'s drop out of the equations and we'll just ignore them. "
   ]
  },
  {
   "cell_type": "code",
   "execution_count": 25,
   "id": "5473e41a",
   "metadata": {},
   "outputs": [
    {
     "name": "stdout",
     "output_type": "stream",
     "text": [
      "Polynomial coeffs, Fitted coeffs, Fractional error\n",
      "     0.944355      -1946.93      -2062.65\n",
      "     0.122178      -114.514      -938.272\n",
      "     -0.68899       1009.27      -1465.86\n",
      "     0.434621       68.7425       157.167\n",
      "     0.258574      -261.139      -1010.92\n",
      "    -0.985424      -30.6119       30.0647\n",
      "     0.136273       135.008       989.718\n",
      "    -0.782731       14.1073      -19.0233\n",
      "     -0.17754      -60.8176       341.558\n",
      "    -0.436205      -5.37408       11.3201\n",
      "    -0.958372       12.6465      -14.1958\n",
      "     0.666133       1.44044        1.1624\n",
      "    0.0101143      -1.50486      -149.786\n",
      "    -0.394676     -0.409315     0.0370928\n",
      "    -0.739437     -0.660095     -0.107301\n",
      "    -0.639928     -0.653831     0.0217257\n",
      "     0.106998      0.109593     0.0242529\n",
      "   -0.0658999    -0.0637538     -0.032566\n",
      "    -0.387353     -0.387375   5.81533e-05\n",
      "    -0.789937     -0.790051   0.000144325\n",
      "      0.66611      0.666078  -4.70231e-05\n",
      "rms deviation / max(y) = 0.00119787\n"
     ]
    },
    {
     "data": {
      "image/png": "[encoded data removed]",
      "text/plain": [
       "<Figure size 640x480 with 1 Axes>"
      ]
     },
     "metadata": {},
     "output_type": "display_data"
    }
   ],
   "source": [
    "# first generate some data from a random polynomial\n",
    "\n",
    "k = 20  # order of polynomial\n",
    "n = 100   # number of data points\n",
    "\n",
    "x = np.linspace(-2,2,n)\n",
    "a0 = -1.0 + 2*np.random.rand(k+1)\n",
    "poly = np.polynomial.Polynomial(a0)\n",
    "y = poly(x) + np.random.normal(scale=0.0, size=n)\n",
    "plt.plot(x,y,'.')\n",
    "\n",
    "# Compute the design matrix\n",
    "# A_{ij} = f_j(x_i)\n",
    "A = np.zeros((n, k+1))\n",
    "for kk in range(k+1):\n",
    "    A[:, kk] = x**kk\n",
    "\n",
    "# Now do the linear algebra part \n",
    "rhs = np.transpose(A)@y\n",
    "lhs = np.transpose(A)@A\n",
    "a = np.linalg.inv(lhs)@rhs\n",
    "\n",
    "\n",
    "print(\"Polynomial coeffs, Fitted coeffs, Fractional error\")\n",
    "for i in range(k+1):\n",
    "    print(\"%13g %13g %13g\" % (a0[i], a[i], (a[i]-a0[i])/a0[i]))\n",
    "\n",
    "xx = np.linspace(-2,2,1000)\n",
    "poly = np.polynomial.Polynomial(a)\n",
    "yy = poly(xx)\n",
    "plt.plot(xx,yy,'--')\n",
    "\n",
    "dev = np.sqrt(np.mean((y-poly(x))**2))\n",
    "print('rms deviation / max(y) = %g' % (dev/np.max(np.abs(y)),))\n",
    "\n",
    "plt.show()\n"
   ]
  },
  {
   "cell_type": "markdown",
   "id": "13fd394a",
   "metadata": {},
   "source": [
    "If you run this with no noise (`scale=0` on line 10), you should see that for low polynomial order the coefficients are fit to machine precision, but the errors become large pretty quickly as you increase the polynomial order. Something is going horribly wrong with the matrix inversion as the polynomial order increases!"
   ]
  },
  {
   "cell_type": "markdown",
   "id": "1aaa27d6",
   "metadata": {},
   "source": [
    "## Using SVD"
   ]
  },
  {
   "cell_type": "markdown",
   "id": "cac127b3",
   "metadata": {},
   "source": [
    "Singular value decomposition (SVD) is extremely useful in these situations where you are dealing with a close-to-singular matrix. The ratio of the largest to smallest singular values is known as the **condition number** of the matrix, and measures how close to singular it is."
   ]
  },
  {
   "cell_type": "code",
   "execution_count": 26,
   "id": "e8d9067e",
   "metadata": {},
   "outputs": [
    {
     "name": "stdout",
     "output_type": "stream",
     "text": [
      "Range of singular values = 1.02088e+09\n",
      "np.linalg.cond gives 1.02088e+09\n"
     ]
    }
   ],
   "source": [
    "U, Sdiag, VT = np.linalg.svd(A,0)\n",
    "\n",
    "print(\"Range of singular values = %g\" % (max(abs(Sdiag))/min(abs(Sdiag))))\n",
    "\n",
    "print(\"np.linalg.cond gives %g\" % (np.linalg.cond(A)))"
   ]
  },
  {
   "cell_type": "markdown",
   "id": "762f72b0",
   "metadata": {},
   "source": [
    "Let's use SVD to rewrite the normal equations:\n",
    "\n",
    "$$\\mathbf{A^T} \\mathbf{d} = \\mathbf{A^T}\\mathbf{A}\\mathbf{a}$$ \n",
    "\n",
    "$$ \\mathbf{VSU^T} \\mathbf{d} = \\mathbf{VSU^T}\\mathbf{USV^T} \\mathbf{a}$$ \n",
    "\n",
    "$$ \\mathbf{VSU^T} \\mathbf{d} = \\mathbf{VS^2V^T} \\mathbf{a}$$ \n",
    "\n",
    "$$ \\mathbf{V^TVS}\\mathbf{U^T} \\mathbf{d} = \\mathbf{V^T}\\mathbf{VS^2V^T} \\mathbf{a}$$ \n",
    "\n",
    "$$ \\mathbf{SU^T} \\mathbf{d} = \\mathbf{S^2V^T} \\mathbf{a}$$ \n",
    "\n",
    "$$ \\mathbf{U^T} \\mathbf{d} = \\mathbf{SV^T} \\mathbf{a}$$ \n",
    "\n",
    "$$\\Rightarrow \\mathbf{VS^{-1}}\\mathbf{U^T} \\mathbf{d} =  \\mathbf{a}$$ \n",
    "\n",
    "The matrix $\\mathbf{VS^{-1}}\\mathbf{U^T}$ is called the **pseudo-inverse**. We can use it to map from the data vector $\\mathbf{d}$ to the model parameters $\\mathbf{a}$.\n"
   ]
  },
  {
   "cell_type": "code",
   "execution_count": 28,
   "id": "1595e75e",
   "metadata": {
    "scrolled": false
   },
   "outputs": [
    {
     "name": "stdout",
     "output_type": "stream",
     "text": [
      "Polynomial coeffs, Fitted coeffs, Fractional error\n",
      "     0.944355,      0.944355  -2.23019e-11\n",
      "     0.122178,      0.122178  -8.39068e-10\n",
      "     -0.68899,      -0.68899  -1.28194e-10\n",
      "     0.434621,      0.434621   2.48335e-09\n",
      "     0.258574,      0.258574   -3.2276e-09\n",
      "    -0.985424,     -0.985424   3.75468e-09\n",
      "     0.136273,      0.136273   2.95716e-08\n",
      "    -0.782731,     -0.782731  -1.08192e-08\n",
      "     -0.17754,      -0.17754   2.62296e-08\n",
      "    -0.436205,     -0.436205   3.42929e-08\n",
      "    -0.958372,     -0.958372  -9.59303e-09\n",
      "     0.666133,      0.666133   7.40802e-09\n",
      "    0.0101143,     0.0101143  -5.62498e-07\n",
      "    -0.394676,     -0.394676   6.51185e-09\n",
      "    -0.739437,     -0.739437   1.28928e-09\n",
      "    -0.639928,     -0.639928  -7.10904e-10\n",
      "     0.106998,      0.106998  -6.31728e-09\n",
      "   -0.0658999,    -0.0658999   2.10796e-09\n",
      "    -0.387353,     -0.387353  -1.38929e-10\n",
      "    -0.789937,     -0.789937  -8.55755e-12\n",
      "      0.66611,       0.66611  -3.99514e-12\n",
      "rms deviation / max(y) = 1.33074e-11\n"
     ]
    },
    {
     "data": {
      "image/png": "[encoded data removed]",
      "text/plain": [
       "<Figure size 640x480 with 1 Axes>"
      ]
     },
     "metadata": {},
     "output_type": "display_data"
    }
   ],
   "source": [
    "aSVD = VT.T @ np.diag(1/Sdiag) @ U.T @ y\n",
    "\n",
    "print(\"Polynomial coeffs, Fitted coeffs, Fractional error\")\n",
    "for i in range(k+1):\n",
    "    print(\"%13g, %13g %13g\" % (a0[i], aSVD[i], (aSVD[i]-a0[i])/a0[i]))\n",
    "\n",
    "plt.plot(x,y,'.')\n",
    "\n",
    "xx = np.linspace(-2,2,1000)\n",
    "poly = np.polynomial.Polynomial(aSVD)\n",
    "yy = poly(xx)\n",
    "plt.plot(xx,yy,'--')\n",
    "\n",
    "dev = np.sqrt(np.mean((y-poly(x))**2))\n",
    "print('rms deviation / max(y) = %g' % (dev/np.max(np.abs(y)),))\n",
    "\n",
    "plt.show()"
   ]
  },
  {
   "cell_type": "markdown",
   "id": "4fab5983",
   "metadata": {},
   "source": [
    "## Orthogonal polynomials"
   ]
  },
  {
   "cell_type": "markdown",
   "id": "7a3ee4b8",
   "metadata": {},
   "source": [
    "SVD does a lot better than straight inversion of the normal equations, but still fails for large enough polynomial order. One way that we can do better is to choose a set of basis functions that are orthogonal in the domain that we are interested in. For example, the Legendre polynomials are orthogonal on the domain $x=(-1,1)$ (which you can rescale to by rescaling your $x$ variable). "
   ]
  },
  {
   "cell_type": "markdown",
   "id": "b10f5bf9",
   "metadata": {},
   "source": [
    "> **Exercise**:  Try changing the basis functions to Legendre polynomials and see how that improves the fit, both for the inversion and SVD methods. How do the results change when you change the number of data points and the order of the polynomial? Check also how the condition number of the design matrix changes as a function of the polynomial degree when you change the polynomials you are using to fit. Hint: You can use [`numpy.polynomial.legendre.legvander`](https://numpy.org/devdocs/reference/generated/numpy.polynomial.legendre.legvander.html) to generate the design matrix $\\mathbf{A}$ for you."
   ]
  }
 ],
 "metadata": {
  "kernelspec": {
   "display_name": "Python 3 (ipykernel)",
   "language": "python",
   "name": "python3"
  },
  "language_info": {
   "codemirror_mode": {
    "name": "ipython",
    "version": 3
   },
   "file_extension": ".py",
   "mimetype": "text/x-python",
   "name": "python",
   "nbconvert_exporter": "python",
   "pygments_lexer": "ipython3",
   "version": "3.11.5"
  }
 },
 "nbformat": 4,
 "nbformat_minor": 5
}
