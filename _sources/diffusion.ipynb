{
 "cells": [
  {
   "cell_type": "markdown",
   "id": "4f915713-b982-459a-a87d-9e4083bbff62",
   "metadata": {},
   "source": [
    "# Diffusion in multi-dimensions"
   ]
  },
  {
   "cell_type": "markdown",
   "id": "3283f287-683e-48ec-a624-9b387eff401b",
   "metadata": {},
   "source": [
    "Sometimes it can be useful to mix explicit and implicit methods. In 1D, the **Crank-Nicholson method** is\n",
    "\n",
    "$$T^{n+1}_i-T^n_i = \\alpha\\left[{1\\over 2}\\left(T^{n+1}_{i-1} -2 T^{n+1}_i + T^{n+1}_{i+1}\\right) + {1\\over 2}\\left(T^n_{i-1} -2 T^n_i + T^n_{i+1}\\right)\\right]$$\n",
    "\n",
    "where on the right-hand side we take the average of the explicit and implicit updates. This method is described as **semi-implicit**. Also stable for any $\\Delta t$, the advantage of Crank-Nicholson over the fully-implicit method is that it is second order in time instead of first order."
   ]
  },
  {
   "cell_type": "markdown",
   "id": "15fd3c28-8ce9-4f06-a3e1-d4fe3baac62b",
   "metadata": {},
   "source": [
    "The **alternating-direction implicit scheme** is a way to solve the 2D diffusion equation\n",
    "\n",
    "$${\\partial T\\over \\partial t} = {\\partial^2 T\\over \\partial x^2} + {\\partial^2 T\\over \\partial y^2}.$$\n",
    "\n",
    "The idea is to split the update into two half timesteps:\n",
    "\n",
    "$$T^{n+1/2}_{i,j} =  T^n_{i,j} + {\\alpha\\over 2}\\left(T^{n+1/2}_{i-1,j} -2T^{n+1/2}_{i,j} + T^{n+1/2}_{i+1,j} + T^n_{i,j-1} -2T^n_{i,j} + T^n_{i,j+1}\\right)$$\n",
    "\n",
    "$$T^{n+1}_{i,j} =  T^{n+1/2}_{i,j} + {\\alpha\\over 2}\\left(T^{n+1/2}_{i-1,j} -2T^{n+1/2}_{i,j} + T^{n+1/2}_{i+1,j} + T^{n+1}_{i,j-1} -2T^{n+1}_{i,j} + T^{n+1}_{i,j+1}\\right)$$\n",
    "\n",
    "In the first step we treat the $x$-direction update implicitly and the $y$-direction explicitly, and then alternate for the second step."
   ]
  },
  {
   "cell_type": "markdown",
   "id": "6a430794-73a3-4652-ba24-b67547577063",
   "metadata": {},
   "source": [
    "```{admonition} Exercise: 2D diffusion\n",
    "\n",
    "Implement this scheme to solve for the time evolution of the temperature profile in a 2D square box that is at $T=0$ initially. One side of the box is held at $T=1$ for $t>0$, the other sides are kept at $T=0$. \n",
    "\n",
    "```"
   ]
  },
  {
   "cell_type": "code",
   "execution_count": null,
   "id": "8e6dd61b-08b9-41c8-8874-fea7c5a9027b",
   "metadata": {},
   "outputs": [],
   "source": []
  }
 ],
 "metadata": {
  "kernelspec": {
   "display_name": "Python 3 (ipykernel)",
   "language": "python",
   "name": "python3"
  },
  "language_info": {
   "codemirror_mode": {
    "name": "ipython",
    "version": 3
   },
   "file_extension": ".py",
   "mimetype": "text/x-python",
   "name": "python",
   "nbconvert_exporter": "python",
   "pygments_lexer": "ipython3",
   "version": "3.11.6"
  }
 },
 "nbformat": 4,
 "nbformat_minor": 5
}
