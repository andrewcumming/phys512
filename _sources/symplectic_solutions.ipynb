{
 "cells": [
  {
   "cell_type": "markdown",
   "id": "d2037ada",
   "metadata": {},
   "source": [
    "# Symplectic integrators"
   ]
  },
  {
   "cell_type": "code",
   "execution_count": 1,
   "id": "fd72024b",
   "metadata": {},
   "outputs": [
    {
     "name": "stdout",
     "output_type": "stream",
     "text": [
      "IPython console for SymPy 1.12 (Python 3.11.6-64-bit) (ground types: python)\n",
      "\n",
      "These commands were executed:\n",
      ">>> from sympy import *\n",
      ">>> x, y, z, t = symbols('x y z t')\n",
      ">>> k, m, n = symbols('k m n', integer=True)\n",
      ">>> f, g, h = symbols('f g h', cls=Function)\n",
      ">>> init_printing()\n",
      "\n",
      "Documentation can be found at https://docs.sympy.org/1.12/\n",
      "\n"
     ]
    }
   ],
   "source": [
    "import sympy.matrices\n",
    "from sympy import init_session\n",
    "# get nice printing of matrices\n",
    "init_session()\n",
    "# declare the step size h as a symbol\n",
    "h = sympy.Symbol('h')"
   ]
  },
  {
   "cell_type": "markdown",
   "id": "fa179f9b",
   "metadata": {},
   "source": [
    "We'll do parts (a) and (b) first, for each method:"
   ]
  },
  {
   "cell_type": "markdown",
   "id": "a54dad9b",
   "metadata": {},
   "source": [
    "## Euler\n",
    "\n",
    "The update is\n",
    "\n",
    "$$v_{n+1} = v_n + h a_n = v_n -h x_n$$\n",
    "\n",
    "$$x_{n+1} = x_n + h v_n$$\n",
    "\n",
    "which we can write by inspection as\n",
    "$$\\begin{pmatrix}x_{n+1} \\\\ v_{n+1}  \\end{pmatrix} = \\begin{pmatrix} 1 & h \\\\ -h & 1 \\end{pmatrix} \\begin{pmatrix}x_n \\\\ v_n  \\end{pmatrix}$$"
   ]
  },
  {
   "cell_type": "code",
   "execution_count": 3,
   "id": "3c010950",
   "metadata": {},
   "outputs": [
    {
     "name": "stdout",
     "output_type": "stream",
     "text": [
      "Matrix([[1, h], [-h, 1]])\n",
      "Determinant =  h**2 + 1\n",
      "Forward step and then backwards is given by \n",
      "⎡ 2            ⎤\n",
      "⎢h  + 1    0   ⎥\n",
      "⎢              ⎥\n",
      "⎢         2    ⎥\n",
      "⎣  0     h  + 1⎦\n"
     ]
    }
   ],
   "source": [
    "# Euler\n",
    "def J_euler(h):\n",
    "    return sympy.matrices.Matrix([[1,h],[-h,1]])\n",
    "print(J_euler(h))\n",
    "print('Determinant = ', J_euler(h).det())\n",
    "\n",
    "print('Forward step and then backwards is given by ')\n",
    "pprint(J_euler(-h)*J_euler(h))"
   ]
  },
  {
   "cell_type": "markdown",
   "id": "3fec3d93",
   "metadata": {},
   "source": [
    "We see that the scheme is not reversible - both $x$ and $v$ are larger by a factor $1+h^2$ after a forward-backward step."
   ]
  },
  {
   "cell_type": "markdown",
   "id": "c6f83ae7",
   "metadata": {},
   "source": [
    "## Euler-Cromer\n",
    "\n",
    "From the notes, the update is given by the matrix\n",
    "\n",
    "$$\\begin{pmatrix} 1 & h \\\\ 0 & 1 \\end{pmatrix}\\begin{pmatrix} 1 & 0 \\\\ -h & 1 \\end{pmatrix}$$"
   ]
  },
  {
   "cell_type": "code",
   "execution_count": 6,
   "id": "a5962e2b",
   "metadata": {},
   "outputs": [
    {
     "name": "stdout",
     "output_type": "stream",
     "text": [
      "⎡     2   ⎤\n",
      "⎢1 - h   h⎥\n",
      "⎢         ⎥\n",
      "⎣  -h    1⎦\n",
      "Determinant =  1\n",
      "Forward step and then backwards is given by \n",
      "⎡ 4    2         3  ⎤\n",
      "⎢h  - h  + 1   -h   ⎥\n",
      "⎢                   ⎥\n",
      "⎢      3       2    ⎥\n",
      "⎣    -h       h  + 1⎦\n",
      "Inverse of J is\n",
      "⎡1    -h  ⎤\n",
      "⎢         ⎥\n",
      "⎢        2⎥\n",
      "⎣h  1 - h ⎦\n"
     ]
    }
   ],
   "source": [
    "def J_ec(h):\n",
    "    a = sympy.matrices.Matrix([[1,h],[0,1]])\n",
    "    b = sympy.matrices.Matrix([[1,0],[-h,1]])\n",
    "    return a*b\n",
    "pprint(J_ec(h))\n",
    "print('Determinant = ', J_ec(h).det())\n",
    "print('Forward step and then backwards is given by ')\n",
    "pprint(sympy.simplify(J_ec(-h)*J_ec(h)))\n",
    "\n",
    "print('Inverse of J is')\n",
    "pprint(J_ec(h).inv())"
   ]
  },
  {
   "cell_type": "markdown",
   "id": "0a5b0264",
   "metadata": {},
   "source": [
    "The forward-backward step is given by\n",
    "\n",
    "$$\\begin{pmatrix} 1-h^2 +h^4  & -h^3 \\\\ -h^3 & 1+h^2 \\end{pmatrix}$$\n",
    "\n",
    "so Euler-Cromer is not reversible. Another way to see this is that the inverse of the matrix is\n",
    "\n",
    "$$\\begin{pmatrix} 1  & -h \\\\ h & 1-h^2 \\end{pmatrix},$$\n",
    "\n",
    "whereas it should be $\\mathbf{J}(-h)$ if the method was reversible. "
   ]
  },
  {
   "cell_type": "markdown",
   "id": "9cea3894",
   "metadata": {},
   "source": [
    "## Leapfrog\n",
    "\n",
    "Writing each step of the update as a separate matrix gives \n",
    "\n",
    "$$\\begin{pmatrix}x_{n+1} \\\\ v_{n+1}  \\end{pmatrix}=\\begin{pmatrix} 1 & 0 \\\\ -{h\\over 2} & 1 \\end{pmatrix}\\begin{pmatrix} 1 & h \\\\ 0 & 1 \\end{pmatrix}\\begin{pmatrix} 1 & 0 \\\\ -{h\\over 2} & 1 \\end{pmatrix}\\begin{pmatrix}x_n \\\\ v_n  \\end{pmatrix}$$"
   ]
  },
  {
   "cell_type": "code",
   "execution_count": 9,
   "id": "8fdbc74f",
   "metadata": {},
   "outputs": [
    {
     "name": "stdout",
     "output_type": "stream",
     "text": [
      "⎡     2        ⎤\n",
      "⎢    h         ⎥\n",
      "⎢1 - ──    h   ⎥\n",
      "⎢    2         ⎥\n",
      "⎢              ⎥\n",
      "⎢ 3           2⎥\n",
      "⎢h           h ⎥\n",
      "⎢── - h  1 - ──⎥\n",
      "⎣4           2 ⎦\n",
      "Determinant =  1\n",
      "Forward step and then backwards is given by \n",
      "⎡1  0⎤\n",
      "⎢    ⎥\n",
      "⎣0  1⎦\n",
      "Inverse of J is\n",
      "⎡      2         ⎤\n",
      "⎢     h          ⎥\n",
      "⎢ 1 - ──     -h  ⎥\n",
      "⎢     2          ⎥\n",
      "⎢                ⎥\n",
      "⎢   3           2⎥\n",
      "⎢  h           h ⎥\n",
      "⎢- ── + h  1 - ──⎥\n",
      "⎣  4           2 ⎦\n"
     ]
    }
   ],
   "source": [
    "def J_leapfrog(h):\n",
    "    a = sympy.matrices.Matrix([[1,0],[-h/2,1]])\n",
    "    b = sympy.matrices.Matrix([[1,h],[0,1]])\n",
    "    return a*b*a\n",
    "pprint(sympy.simplify(J_leapfrog(h)))\n",
    "print('Determinant = ', J_leapfrog(h).det())\n",
    "print('Forward step and then backwards is given by ')\n",
    "pprint(sympy.simplify(J_leapfrog(-h)*J_leapfrog(h)))\n",
    "\n",
    "print('Inverse of J is')\n",
    "pprint(J_leapfrog(h).inv())"
   ]
  },
  {
   "cell_type": "markdown",
   "id": "3512d3cb",
   "metadata": {},
   "source": [
    "In this case we see that the forward-backward step gives back the identity matrix! So this is time-reversible. The inverse of the matrix is the same as the original matrix but with $h\\rightarrow -h$."
   ]
  },
  {
   "cell_type": "markdown",
   "id": "d3549d53",
   "metadata": {},
   "source": [
    "Now do part (c):\n",
    "\n",
    "If we write \n",
    "\n",
    "$$2E_n = x_n^2 + v_n^2 = \\begin{pmatrix}x_n v_n \\end{pmatrix}\\begin{pmatrix}x_n \\\\ v_n  \\end{pmatrix}$$\n",
    "\n",
    "then\n",
    "\n",
    "$$2E_{n+1} = \\begin{pmatrix}x_n v_n \\end{pmatrix}\\cdot \\mathbf{J^T} \\mathbf{J} \\begin{pmatrix}x_n \\\\ v_n  \\end{pmatrix}$$"
   ]
  },
  {
   "cell_type": "code",
   "execution_count": 12,
   "id": "f3e2d42b",
   "metadata": {},
   "outputs": [
    {
     "name": "stdout",
     "output_type": "stream",
     "text": [
      "Euler JT.J = \n",
      "⎡ 2            ⎤\n",
      "⎢h  + 1    0   ⎥\n",
      "⎢              ⎥\n",
      "⎢         2    ⎥\n",
      "⎣  0     h  + 1⎦\n",
      "\n",
      "Euler-Cromer JT.J = \n",
      "⎡ 4    2         3  ⎤\n",
      "⎢h  - h  + 1   -h   ⎥\n",
      "⎢                   ⎥\n",
      "⎢      3       2    ⎥\n",
      "⎣    -h       h  + 1⎦\n",
      "\n",
      "Leapfrog JT.J = \n",
      "⎡ 6    4       3 ⎛     2⎞⎤\n",
      "⎢h    h       h ⋅⎝2 - h ⎠⎥\n",
      "⎢── - ── + 1  ───────────⎥\n",
      "⎢16   4            8     ⎥\n",
      "⎢                        ⎥\n",
      "⎢ 3 ⎛     2⎞     4       ⎥\n",
      "⎢h ⋅⎝2 - h ⎠    h        ⎥\n",
      "⎢───────────    ── + 1   ⎥\n",
      "⎣     8         4        ⎦\n",
      "\n",
      "\n",
      "Euler E_n+1 = \n",
      "⎡ 2  2    2  2    2    2⎤\n",
      "⎣h ⋅v  + h ⋅x  + v  + x ⎦\n",
      "\n",
      "Euler-Cromer E_n+1 = \n",
      "⎡ 4  2      3        2  2    2  2    2    2⎤\n",
      "⎣h ⋅x  - 2⋅h ⋅v⋅x + h ⋅v  - h ⋅x  + v  + x ⎦\n",
      "\n",
      "Leapfrog E_n+1 = \n",
      "⎡ 6  2    5        4  2    4  2    3              ⎤\n",
      "⎢h ⋅x    h ⋅v⋅x   h ⋅v    h ⋅x    h ⋅v⋅x    2    2⎥\n",
      "⎢───── - ────── + ───── - ───── + ────── + v  + x ⎥\n",
      "⎣  16      4        4       4       2             ⎦\n"
     ]
    }
   ],
   "source": [
    "print('Euler JT.J = ')\n",
    "pprint(sympy.simplify(J_euler(h).T * J_euler(h)))\n",
    "print('\\nEuler-Cromer JT.J = ')\n",
    "pprint(sympy.simplify(J_ec(h).T * J_ec(h)))\n",
    "print('\\nLeapfrog JT.J = ')\n",
    "pprint(sympy.simplify(J_leapfrog(h).T * J_leapfrog(h)))\n",
    "\n",
    "x = sympy.Symbol('x')\n",
    "v = sympy.Symbol('v')\n",
    "xv = sympy.matrices.Matrix([x, v])\n",
    "\n",
    "print('\\n\\nEuler E_n+1 = ')\n",
    "pprint(sympy.simplify(xv.T * J_euler(h).T * J_euler(h) * xv))\n",
    "print('\\nEuler-Cromer E_n+1 = ')\n",
    "pprint(sympy.simplify(xv.T * J_ec(h).T * J_ec(h) * xv))\n",
    "print('\\nLeapfrog E_n+1 = ')\n",
    "pprint(sympy.simplify(xv.T * J_leapfrog(h).T * J_leapfrog(h) * xv))"
   ]
  },
  {
   "cell_type": "markdown",
   "id": "902ef267-a76c-44e8-a434-0b27195795f9",
   "metadata": {},
   "source": [
    "Notice that $E_{n+1}-E_n$ has terms with different powers of $h$ with different combinations of $x$ and $v$. In the Euler method, we get $E_{n+1}-E_n = h^2 E_n$, which is always positive and so the energy error increases over time. However, in the leapfrog method you can see that instead we have terms like $h^4 (x^2-v^2)$ or $h^3 vx$ which average to zero over an orbit. This is the reason for the much better scaling of the energy error with $h$. "
   ]
  }
 ],
 "metadata": {
  "kernelspec": {
   "display_name": "Python 3 (ipykernel)",
   "language": "python",
   "name": "python3"
  },
  "language_info": {
   "codemirror_mode": {
    "name": "ipython",
    "version": 3
   },
   "file_extension": ".py",
   "mimetype": "text/x-python",
   "name": "python",
   "nbconvert_exporter": "python",
   "pygments_lexer": "ipython3",
   "version": "3.11.6"
  }
 },
 "nbformat": 4,
 "nbformat_minor": 5
}
