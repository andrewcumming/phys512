{
 "cells": [
  {
   "cell_type": "markdown",
   "id": "236a0cac-79a0-4446-bbff-921720a8d319",
   "metadata": {},
   "source": [
    "# Sparse matrices"
   ]
  },
  {
   "cell_type": "markdown",
   "id": "99d57382",
   "metadata": {},
   "source": [
    "A sparse matrix is a matrix which has only a small fraction of non-zero elements. We noted already that in the example of the 1D wave equation the matrix is tridiagonal, so we need to store only the $N + 2(N-1)=3N-2$ elements in the three diagonals, the other elements are zero. This happens because the second order finite-differencing that we used relates the function at grid cell $i$, $f_i$, only to its nearest neighbours $f_{i+1}$ and $f_{i-1}$.  \n",
    "\n",
    "For Laplace's equation on a 2D grid, we have the difference equation\n",
    "\n",
    "$$V_{i,j} = {1\\over 4}\\left(V_{i+1,j}+V_{i-1,j} + V_{i,j+1}+V_{i,j-1}\\right),$$\n",
    "\n",
    "so again if we were to write this as a matrix equation the matrix involved would be sparse. One way to do this is to reduce the 2D grid of values to a 1D vector, for example by defining the index $k = i + j\\times N$ where $NxN$ is the size of the grid. The difference equation is then\n",
    "\n",
    "$$V_k = {1\\over 4}\\left(V_{k-N} + V_{k-1} + V_{k+1} + V_{k+N}\\right),$$\n",
    "\n",
    "which we could write as \n",
    "\n",
    "$$\\mathbf{A} \\cdot \\mathbf{V} = 0$$\n",
    "\n",
    "where $\\mathbf{V}$ is the vector of function values of length $N^2$, and $\\mathbf{A}$ is a $N^2\\times N^2$ matrix. In this case, the matrix is a *banded matrix* - it has five non-zero diagonals (the main diagonal and the diagonals at distance $k=\\pm 1$ and $k=\\pm N$ away from the main diagonal).  \n",
    "\n",
    "You can see that these matrices can become large very quickly - even for a modest 2D problem with $N=100$, we are dealing with a $10^4\\times 10^4$ matrix, or $10^8$ (mostly zero) matrix elements. \n",
    "\n",
    "Fortunately, there are techniques available for dealing with sparse matrices. As we will see these can sidestep the need to store the matrix itself (even in reduced, banded form). An important example is the **conjugate gradient method**. We'll go through some of the theory behind this method first and then apply it to solving Laplace's equation. "
   ]
  },
  {
   "cell_type": "markdown",
   "id": "588bbefb-588f-4fae-b0de-fd94c9b017e5",
   "metadata": {},
   "source": [
    "## Conjugate gradient method"
   ]
  },
  {
   "cell_type": "markdown",
   "id": "7b1a2e10-1893-40b1-983b-1735273795ae",
   "metadata": {},
   "source": [
    "The **conjugate gradient method** is an iterative way to solve the equation $\\mathbf{A}\\mathbf{x}=\\mathbf{b}$ when you have a sparse matrix $\\mathbf{A}$. The matrix $\\mathbf{A}$ needs to be symmetric and positive-definite, ie. $\\mathbf{x}^T\\mathbf{A}\\mathbf{x}$ is positive for any vector $\\mathbf{x}$. We start with an initial guess for the solution and iteratively improves the guess, each time applying a correction that is conjugate to previous corrections.\n",
    "\n",
    "```{admonition} Conjugate vectors\n",
    "Conjugate vectors $\\{\\mathbf{p_i}\\}$ of a matrix $\\mathbf{A}$ satisfy the orthogonality relation\n",
    "\n",
    "$$\\mathbf{p_i}^T\\mathbf{A}\\mathbf{p_j} \\propto \\delta_{ij}.$$\n",
    "\n",
    "In terms of the these vectors, the solution to $\\mathbf{A}\\mathbf{x}=\\mathbf{b}$ can be written as \n",
    "\n",
    "$$\\mathbf{x} = \\sum_i \\alpha_i \\mathbf{p_i}.$$ \n",
    "\n",
    "The coefficients $\\alpha_i$ can be obtained from \n",
    "\n",
    "$$\\mathbf{A}\\mathbf{x}=\\mathbf{b}\\Rightarrow \\sum_i \\alpha_i \\mathbf{A}\\mathbf{p_i} = \\mathbf{b}\\Rightarrow \\sum_i \\alpha_i \\mathbf{p_j}^T\\mathbf{A}\\mathbf{p_i} = \\mathbf{p_j}^T\\mathbf{b}$$\n",
    "\n",
    "$$\\Rightarrow \\alpha_j = {\\mathbf{p_j}^T\\mathbf{b}\\over \\mathbf{p_j}^T\\mathbf{A}\\mathbf{p_j}}$$\n",
    "```"
   ]
  },
  {
   "cell_type": "markdown",
   "id": "f02f444e-7a9d-4a42-bfc0-aab7aee4d6fe",
   "metadata": {},
   "source": [
    "Here's how it works: start with a guess for the solution, $\\mathbf{x_0}$. We take the first conjugate vector to be the **residual**\n",
    "\n",
    "$$\\mathbf{p_0}=\\mathbf{r_0} = \\mathbf{b}-\\mathbf{A}\\mathbf{x_0}.$$\n",
    "\n",
    "If we think of solving $\\mathbf{A}\\mathbf{x}=\\mathbf{b}$ as minimizing the function\n",
    "\n",
    "$$f = {1\\over 2}\\mathbf{x}^T\\mathbf{A}\\mathbf{x} - \\mathbf{x}^T\\mathbf{b}$$\n",
    "\n",
    "which has \n",
    "\n",
    "$$\\mathbf{\\nabla} f = \\mathbf{A}\\mathbf{x} - \\mathbf{b},$$\n",
    "\n",
    "then this makes sense because it is equivalent to choosing $\\mathbf{p_0}=-\\mathbf{\\nabla} f(\\mathbf{x_0})$, ie. in the direction of the downhill gradient at $\\mathbf{x_0}$. We update our guess by moving in this direction\n",
    "\n",
    "$$\\mathbf{x_1} = \\mathbf{x_0} + \\alpha_0 \\mathbf{p_0}$$\n",
    "\n",
    "by an amount that minimizes $f(\\mathbf{x_1}) = f( \\mathbf{x_0} + \\alpha_0 \\mathbf{p_0})$. You can show that (differentiate with respect to $\\alpha_0$ and set to zero) this corresponds to \n",
    "\n",
    "$$\\alpha_0 = {\\mathbf{p_0}^T\\mathbf{r_0}\\over \\mathbf{p_0}^T\\mathbf{A}\\mathbf{p_0}}.$$\n",
    "\n",
    "The new residual is\n",
    "\n",
    "$$\\mathbf{r_1} = \\mathbf{b}-\\mathbf{A}\\mathbf{x_1}=\\mathbf{r_0} - \\alpha_0 \\mathbf{A}\\mathbf{p_0},$$\n",
    "\n",
    "which is orthogonal to $\\mathbf{r_0}$ (since we moved to the point where $f$ is minimized in the direction of $\\mathbf{r_0}$, so the gradient of $f$ is now in an orthogonal direction).\n",
    "\n",
    "For the next step, rather than moving fully in the direction of $\\mathbf{r_1}$, we first subtract off the component in the $\\mathbf{p_0}$ direction, so that we end up moving in a direction that is conjugate to $\\mathbf{p_0}$:\n",
    "\n",
    "$$\\mathbf{p_1} = \\mathbf{r_1} - {\\mathbf{p_0}^T\\mathbf{A}\\mathbf{r_1}\\over \\mathbf{p_0}^T\\mathbf{A}\\mathbf{p_0}}\\mathbf{p_0}.$$\n",
    "\n",
    "The next solution is $\\mathbf{x_2} = \\mathbf{x_1} + \\alpha_1 \\mathbf{p_1}$ with residual $\\mathbf{r_2} = \\mathbf{r_1} - \\alpha_1 \\mathbf{A}\\mathbf{p_1}$ where\n",
    "\n",
    "$$\\alpha_1 = {\\mathbf{p_1}^T\\mathbf{r_1}\\over \\mathbf{p_1}^T\\mathbf{A}\\mathbf{p_1}}.$$\n",
    "\n",
    "This continues to future iterations with \n",
    "\n",
    "$$\\mathbf{p_k} = \\mathbf{r_k} - \\sum_{i<k} {\\mathbf{p_i}^T\\mathbf{A}\\mathbf{r_k}\\over \\mathbf{p_i}^T\\mathbf{A}\\mathbf{p_i}}\\mathbf{p_i},$$\n",
    "\n",
    "i.e. we take the part of $\\mathbf{r_k}$ that is conjugate to all the previous $\\mathbf{p_i}$'s. The next iteration is then \n",
    "\n",
    "$$\\mathbf{x_{k+1}} = \\mathbf{x_k} + \\alpha_k \\mathbf{p_k}, \\hspace{1cm} \\mathbf{r_{k+1}} = \\mathbf{r_k} - \\alpha_k \\mathbf{A}\\mathbf{p_k}$$\n",
    "\n",
    "where\n",
    "\n",
    "$$\\alpha_k = {\\mathbf{p_k}^T\\mathbf{r_k}\\over \\mathbf{p_k}^T\\mathbf{A}\\mathbf{p_k}}.$$\n",
    "\n",
    "This method will converge in $N$ iterations (for an $N\\times N$ matrix $\\mathbf{A}$), i.e. \n",
    "once we've minimized $f$ in all $N$ conjugate directions, but often a much smaller number of iterations is enough if the solution is dominated by the few largest components for example. "
   ]
  },
  {
   "cell_type": "markdown",
   "id": "3d63e8e4-8df0-4147-9f62-205fe24d553f",
   "metadata": {},
   "source": [
    "The only thing that we need to put this into practice is a more efficient way to calculate $\\mathbf{p_{k+1}}$. It turns out that we don't need to store all the previous directions: it can be shown that to calculate $\\mathbf{p_{k+1}}$ we just need the previous vector $\\mathbf{p_k}$,\n",
    "\n",
    "$$\\mathbf{p_{k+1}} = \\mathbf{r_{k+1}} + \\beta_k \\mathbf{p_k}$$\n",
    "\n",
    "where \n",
    "\n",
    "$$\\beta_k = {\\mathbf{r_{k+1}^T r_{k+1}}\\over \\mathbf{r_k^T r_k} }.$$\n",
    "\n",
    "Also, when calculating $\\alpha$ we can use the orthogonality properties of $\\mathbf{r}$ and $\\mathbf{p}$ to replace the numerator $\\mathbf{p_k}^T\\mathbf{r_k}$ by $\\mathbf{r_k}^T\\mathbf{r_k}$.\n",
    "\n",
    "Here is a function that implements this:  (based on the [examples](https://github.com/sievers/phys512-2022/tree/master/pdes) from last year's course)"
   ]
  },
  {
   "cell_type": "code",
   "execution_count": 1,
   "id": "21978698-daa2-4d64-bfbe-5f23b1e5272a",
   "metadata": {},
   "outputs": [],
   "source": [
    "def conjgrad(A, b, x = None, niter = 20):\n",
    "    # Find a solution to Ax=b\n",
    "\n",
    "    # If there is no initial guess, create one\n",
    "    if x is None:\n",
    "        x = 0*b\n",
    "\n",
    "    # Calculate first residual r_0 and set p_0 equal to it\n",
    "    r = b - A@x\n",
    "    p = r.copy()\n",
    "\n",
    "    # Keep track of the size of the residual and\n",
    "    # exit early if it gets small enough\n",
    "    rr = r@r\n",
    "\n",
    "    for i in range(niter):\n",
    "        Ap = A@p\n",
    "        pAp = p@Ap\n",
    "        alpha = rr / pAp\n",
    "        x = x + alpha*p\n",
    "        r = r - alpha*Ap\n",
    "\n",
    "        rr_new = r@r\n",
    "        beta = rr_new / rr\n",
    "        p = r + beta*p\n",
    "\n",
    "        rr = rr_new\n",
    "        print('Iteration %d: pAp = %lg, residual=%lg' % (i, pAp, rr**0.5))\n",
    "\n",
    "    return x"
   ]
  },
  {
   "cell_type": "markdown",
   "id": "d802793e",
   "metadata": {},
   "source": [
    "````{admonition} Exercise: try out the conjugate gradient method\n",
    "\n",
    "Try this out! \n",
    "\n",
    "To generate a positive definite matrix $\\mathbf{A}$ you can use \n",
    "\n",
    "```\n",
    "n = 1000\n",
    "A = np.random.rand(n,n)\n",
    "A = A@A.T\n",
    "A = A + np.diag(n * np.ones(n))\n",
    "```\n",
    "\n",
    "where the last step makes the matrix diagonally-dominated.\n",
    "\n",
    "Choose $\\mathbf{b}$ also as a vector of random numbers.\n",
    "\n",
    "Apply the conjugate gradient method using the function above and check how well the solution it gives you satisfies the equation.\n",
    "\n",
    "[[Solution]](https://andrewcumming.github.io/phys512/conjugate_gradient_solutions.html#try-out-the-conjugate-gradient-method)\n",
    "\n",
    "````"
   ]
  },
  {
   "cell_type": "markdown",
   "id": "6cc2ae0b",
   "metadata": {},
   "source": [
    "## Application to Laplace's equation"
   ]
  },
  {
   "cell_type": "markdown",
   "id": "9aff9025",
   "metadata": {},
   "source": [
    "The remarkable thing about the conjugate gradient method above is that the matrix $\\mathbf{A}$ only appears when it is multiplying a vector. This means that we don't have to store a representation of the matrix itself, we just need to provide a function that multiplies a given vector by the matrix. This encourages us to think physically about what our sparse matrix is doing. In the Laplace problem, the matrix is taking the average of the neighbours for example. We can code that up in a few lines without having to store the $N^2\\times N^2$ matrix!\n"
   ]
  },
  {
   "cell_type": "markdown",
   "id": "a7d4e0f5",
   "metadata": {},
   "source": [
    "In the case of Laplace's equation, we have (as written above) \n",
    "\n",
    "$$\\mathbf{A} \\cdot \\mathbf{V} = 0$$\n",
    "\n",
    "where the matrix $\\mathbf{A}$ computes the difference between $V$ at a given point and the average of its neighbours. It's helpful to separate out the contribution from averaging the interior points and averaging the boundary conditions. The boundary condition term can be moved onto the right hand side and becomes our $\\mathbf{b}$ vector in $\\mathbf{A}\\mathbf{x}=\\mathbf{b}$."
   ]
  },
  {
   "cell_type": "markdown",
   "id": "1106635e",
   "metadata": {},
   "source": [
    "Here's how this would work in code. First, the operation $\\mathbf{A}\\mathbf{x}$ is carried out setting $V=0$ on the boundary points, so this represents the averaging with no information coming in from the boundaries:"
   ]
  },
  {
   "cell_type": "code",
   "execution_count": 4,
   "id": "afd252eb",
   "metadata": {},
   "outputs": [],
   "source": [
    "def Ax(x, n, mask):\n",
    "    V = x.copy()\n",
    "    V = V.reshape((n,n))\n",
    "    V[mask] = 0\n",
    "    Vnew = V - 0.25 * (np.roll(V,1,0) + np.roll(V,-1,0) + \n",
    "                       np.roll(V,1,1) + np.roll(V,-1,1))\n",
    "    Vnew[mask] = 0\n",
    "    Vnew = Vnew.reshape(n*n)\n",
    "    return Vnew"
   ]
  },
  {
   "cell_type": "markdown",
   "id": "f143c027",
   "metadata": {},
   "source": [
    "(we are using the same setup as before for the Laplace problem where `mask` is the mask that sets the boundary points). Then we set up the $\\mathbf{b}$ vector to contain the boundary information, ie. the contribution to the average that comes from the boundaries:"
   ]
  },
  {
   "cell_type": "markdown",
   "id": "8d2c7cc0",
   "metadata": {},
   "source": [
    "```\n",
    "b = 0.25 * (np.roll(bc,1,axis=0)+np.roll(bc,-1,axis=0)+\n",
    "    np.roll(bc,1,axis=1)+np.roll(bc,-1,axis=1))\n",
    "b[mask] = 0\n",
    "b = b.reshape(n*n)\n",
    "```"
   ]
  },
  {
   "cell_type": "markdown",
   "id": "9751250b",
   "metadata": {},
   "source": [
    "(again we assume that as before the boundary conditions have been set in the array `bc`)."
   ]
  },
  {
   "cell_type": "markdown",
   "id": "704cf6f3",
   "metadata": {},
   "source": [
    "```{admonition} Exercise: conjugate gradient for Laplace's equation\n",
    "\n",
    "Implement the conjugate gradient method for the Laplace problem we looked at last time. You can use the same `set_bcs` function to set up the boundary conditions and boundary mask.\n",
    "\n",
    "Then define `b` as above and use the conjugate gradient method with the `Ax` function above to evolve the initial guess for the potential until it converges.\n",
    "\n",
    "Plot the maximum change in the values of $V$ from one iteration to the next against the number of iterations, and compare with what we had last time from the relaxation method. You should see that conjugate gradient converges in $\\sim N$ steps rather than $\\sim N^2$.\n",
    "\n",
    "[[Solution]](https://andrewcumming.github.io/phys512/conjugate_gradient_solutions.html#application-to-laplace-s-equation)\n",
    "\n",
    "```"
   ]
  },
  {
   "cell_type": "code",
   "execution_count": null,
   "id": "814cb2d3",
   "metadata": {},
   "outputs": [],
   "source": []
  }
 ],
 "metadata": {
  "kernelspec": {
   "display_name": "Python 3 (ipykernel)",
   "language": "python",
   "name": "python3"
  },
  "language_info": {
   "codemirror_mode": {
    "name": "ipython",
    "version": 3
   },
   "file_extension": ".py",
   "mimetype": "text/x-python",
   "name": "python",
   "nbconvert_exporter": "python",
   "pygments_lexer": "ipython3",
   "version": "3.11.4"
  }
 },
 "nbformat": 4,
 "nbformat_minor": 5
}
