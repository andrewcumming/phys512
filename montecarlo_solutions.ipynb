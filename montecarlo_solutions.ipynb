{
 "cells": [
  {
   "cell_type": "markdown",
   "id": "6d46a72f",
   "metadata": {},
   "source": [
    "# Monte Carlo Integration"
   ]
  },
  {
   "cell_type": "code",
   "execution_count": 1,
   "id": "b53886bb",
   "metadata": {},
   "outputs": [],
   "source": [
    "import numpy as np\n",
    "import matplotlib.pyplot as plt\n",
    "import scipy.integrate\n",
    "\n",
    "seed = 239\n",
    "rng = np.random.default_rng(seed)"
   ]
  },
  {
   "cell_type": "code",
   "execution_count": 2,
   "id": "5582478b",
   "metadata": {},
   "outputs": [],
   "source": [
    "def integrate_MC(f, N, sampling = 'uniform'):\n",
    "\n",
    "    if sampling == 'gaussian':\n",
    "        p = lambda x: np.exp(-x**2/2)/(np.sqrt(2*np.pi))\n",
    "        x = rng.normal(size = N)    # Generate x values between +-xmax\n",
    "    else:\n",
    "        xmax = 3\n",
    "        p = lambda x: np.ones_like(x) / (2*xmax)\n",
    "        x = xmax*(-1 + 2*rng.uniform(size = N))\n",
    "    \n",
    "    return np.sum(f(x)/p(x)) / N"
   ]
  },
  {
   "cell_type": "code",
   "execution_count": 3,
   "id": "5c39e032",
   "metadata": {
    "scrolled": false
   },
   "outputs": [
    {
     "name": "stdout",
     "output_type": "stream",
     "text": [
      "Integral from scipy.quad = 1.78596 with error 5.49113e-09\n",
      "Uniform: I = 1.78656 +- 0.0220357; frac err = 0.0123341\n",
      "Gaussian: I = 1.78585 +- 0.00960208; frac err = 0.00537675\n"
     ]
    },
    {
     "data": {
      "image/png": "[encoded data removed]",
      "text/plain": [
       "<Figure size 640x480 with 1 Axes>"
      ]
     },
     "metadata": {},
     "output_type": "display_data"
    }
   ],
   "source": [
    "def f(x):\n",
    "    return np.exp(-np.abs(x**3))\n",
    "\n",
    "# Compute the integral using quad form comparison\n",
    "I0, err = scipy.integrate.quad(f, -np.inf, np.inf)\n",
    "print(\"Integral from scipy.quad = %g with error %g\" % (I0, err))\n",
    "\n",
    "N = 10**4\n",
    "\n",
    "n_trials = 1000\n",
    "I_arr = np.zeros(n_trials)\n",
    "I2_arr = np.zeros(n_trials)\n",
    "\n",
    "for i in range(n_trials):\n",
    "    I_arr[i] = integrate_MC(f, N)\n",
    "    I2_arr[i] = integrate_MC(f, N, sampling = 'gaussian')\n",
    "\n",
    "I_mean = np.mean(I_arr)\n",
    "I_std = np.std(I_arr)\n",
    "print(\"Uniform: I = %g +- %g; frac err = %g\" % (I_mean, I_std, I_std/I_mean))\n",
    "\n",
    "I2_mean = np.mean(I2_arr)\n",
    "I2_std = np.std(I2_arr)\n",
    "print(\"Gaussian: I = %g +- %g; frac err = %g\" % (I2_mean, I2_std, I2_std/I2_mean))\n",
    "\n",
    "counts, bins = np.histogram(I_arr, bins=10, density = True)\n",
    "plt.stairs(counts, bins)    \n",
    "counts, bins = np.histogram(I2_arr, bins=10, density = True)\n",
    "plt.stairs(counts, bins)    \n",
    "plt.plot([I0, I0], (0,1.05*max(counts)), \":\")\n",
    "plt.ylim((0,1.05*max(counts)))\n",
    "plt.show()"
   ]
  },
  {
   "cell_type": "code",
   "execution_count": null,
   "id": "e3558622",
   "metadata": {},
   "outputs": [],
   "source": []
  }
 ],
 "metadata": {
  "kernelspec": {
   "display_name": "Python 3 (ipykernel)",
   "language": "python",
   "name": "python3"
  },
  "language_info": {
   "codemirror_mode": {
    "name": "ipython",
    "version": 3
   },
   "file_extension": ".py",
   "mimetype": "text/x-python",
   "name": "python",
   "nbconvert_exporter": "python",
   "pygments_lexer": "ipython3",
   "version": "3.11.4"
  }
 },
 "nbformat": 4,
 "nbformat_minor": 5
}
